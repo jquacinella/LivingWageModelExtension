{
 "cells": [
  {
   "cell_type": "markdown",
   "metadata": {},
   "source": [
    "# Master's Thesis\n",
    "\n",
    "I'm interested in how to model how bad / false information travels through social media, and if there is any way to categorize conversations into 'rumorous' or 'non-rumorous'. There are two projects, Truthy and Pheme, that are working in this general area. I need to read more of their research, but this paper sparked my interest (http://www.pheme.eu/wp-content/uploads/2015/02/ai4cities-rumours.pdf), specifically:\n",
    "\n",
    "> In order to create social media rumour datasets, we propose an alternative way of manually annotating rumours by \n",
    "> reading through the timeline of tweets related to an event and selecting stories that meet the characteristics of a \n",
    "> rumour ... The creation of both rumour and non-rumour datasets will allow us to train machine learning classifiers to \n",
    "> assist with the identification of rumours in new events, by distinguishing the characteristics of threads that spark \n",
    "> conversation from rumour-bearing ones\"\n",
    "\n",
    "I'm hoping to get a hold of their manually annotated data to see if I can use the features of the tweets to detect rumor bearing convos via a machine learning model. I'd also like to look to see:\n",
    "\n",
    "  * if features regarding any links in the tweets help the model accuracy (article title + text, article topic, article source, etc)\n",
    "  * if features regarding the metadata of the twitter users in the convo (can we use an api to find bot users? low quality tweets for some definition of quality?)\n"
   ]
  },
  {
   "cell_type": "code",
   "execution_count": null,
   "metadata": {
    "collapsed": true
   },
   "outputs": [],
   "source": []
  }
 ],
 "metadata": {
  "kernelspec": {
   "display_name": "Python 2",
   "language": "python",
   "name": "python2"
  },
  "language_info": {
   "codemirror_mode": {
    "name": "ipython",
    "version": 2
   },
   "file_extension": ".py",
   "mimetype": "text/x-python",
   "name": "python",
   "nbconvert_exporter": "python",
   "pygments_lexer": "ipython2",
   "version": "2.7.6"
  }
 },
 "nbformat": 4,
 "nbformat_minor": 0
}
