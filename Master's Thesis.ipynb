{
 "cells": [
  {
   "cell_type": "markdown",
   "metadata": {},
   "source": [
    "# Master's Thesis\n",
    "\n",
    "\n",
    "# Abstract\n",
    "\n",
    "**Objectives:** This study will extend an established model 1 ​for estimating the current living\n",
    "wage in 2015 to the past decade for the purpose of:\n",
    "\n",
    "* an exploratory analysis trends in the gap between the estimated living wage and the\n",
    "minimum wage\n",
    "* evaluating any correlation between the living wage gap and other economic metrics,\n",
    "including public funds spent on social services\n",
    "\n",
    "**Methods:** The original data set for this model is for 2015. This study will extend the data\n",
    "sources of this model into the past to enable trend analysis. Data for economic metrics from\n",
    "public data sources will supplement this data for correlation analysis.\n",
    "\n",
    "# Methods\n",
    "\n",
    "## Model\n",
    "\n",
    "The original model proposed estimated the living wage in terms of 9 variables:\n",
    "\n",
    "Basic needs budget = Food _cost + child _care _cost + (insurance premiums + health care costs) + housing _cost + transportation _cost + other_necessities_cost\n",
    "\n",
    "Living wage = Basic needs budget + ( basic needs budget * tax rate )\n",
    "\n",
    "## Data Sources\n",
    "\n",
    "The following data sources are used to find estimates of the model variables:\n",
    "\n",
    "* The food cost is estimated from data from the USDA’s low-cost food plan national\n",
    "average in June 2014. 2\n",
    "* Child care is based off state-level estimates published by the National Association of\n",
    "Child Care Resource and Referral Agencies. 3\n",
    "* Insurance costs are based on the insurance component of the 2013 Medical\n",
    "Expenditure Panel Survey. 4\n",
    "* Housing costs are estimated from the HUD Fair Market Rents (FMR) estimates\n",
    "* Other variables are pulled from the 2014 Bureau of Labor Statistics Consumer\n",
    "Expenditure Survey. 5\n",
    "\n",
    "These data sets extend into the past, allowing for calculating the model for years past. The data will also have to be adjusted for inflation 6.\n",
    "\n",
    "## Analytic Approach\n",
    "\n",
    "First, data will be gathered from the data sources of the original model but will be extended into the past. The methodology followed by the model will be replicated to come up with a data set representing estimates of the living wage across time. After the data set is prepared, the trend of the living wage as compared to minimum wage can be examined. Has the gap increased or decreased over time, and at what rate? Have certain areas seen larger than average increases or decreases in this gap? Once preliminary trend analysis is done, this data set will be analyzed in comparison to other economic trends to see if any interesting correlations can be found, including public expenditure for social services, economic growth, unemployment, etc.\n",
    "\n",
    "## Presentation Of Results\n",
    "\n",
    "Results will be presented for both parts of the data analysis. TODO: expand\n",
    "\n",
    "## Background / Sources\n",
    "\n",
    "- Glasmeier AK, Nadeau CA, Schultheis E: LIVING WAGE CALCULATOR User’s Guide / Technical Notes 2014 Update\n",
    "- USDA low-cost food plan, June, 2014\n",
    "- Child Care in America 2014 State fact sheets\n",
    "- 2013 Medical Expenditure Panel Survey Available\n",
    "- Consumer Expenditure Survey\n",
    "- Inflation Calculator"
   ]
  },
  {
   "cell_type": "code",
   "execution_count": null,
   "metadata": {
    "collapsed": true
   },
   "outputs": [],
   "source": []
  }
 ],
 "metadata": {
  "kernelspec": {
   "display_name": "Python 2",
   "language": "python",
   "name": "python2"
  },
  "language_info": {
   "codemirror_mode": {
    "name": "ipython",
    "version": 2
   },
   "file_extension": ".py",
   "mimetype": "text/x-python",
   "name": "python",
   "nbconvert_exporter": "python",
   "pygments_lexer": "ipython2",
   "version": "2.7.6"
  }
 },
 "nbformat": 4,
 "nbformat_minor": 0
}
