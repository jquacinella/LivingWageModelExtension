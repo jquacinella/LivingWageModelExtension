{
 "cells": [
  {
   "cell_type": "markdown",
   "metadata": {},
   "source": [
    "# Master's Thesis - James Quacinella\n",
    "\n",
    "\n",
    "# Abstract\n",
    "\n",
    "**Objectives:** This study will extend an established model for estimating the current living wage in 2015 to the past decade for the purpose of:\n",
    "\n",
    "* an exploratory analysis trends in the gap between the estimated living wage and the minimum wage\n",
    "* evaluating any correlation between the living wage gap and other economic metrics, including public funds spent on social services\n",
    "\n",
    "**Methods:** The original data set for this model is for 2015. This study will extend the data sources of this model into the past to enable trend analysis. Data for economic metrics from public data sources will supplement this data for correlation analysis.\n",
    "\n",
    "\n",
    "# Methods\n",
    "\n",
    "## Model\n",
    "\n",
    "The original model proposed estimated the living wage in terms of 9 variables:\n",
    "\n",
    "** *basic_needs_budget* ** = *food_cost* + *child_care_cost* + ( *insurance_premiums* + *health_care_costs* ) + *housing_cost* + *transportation_cost* + *other_necessities_cost*\n",
    "\n",
    "** *living_wage* ** = *basic_needs_budget* + ( *basic_needs_budget* \\* *tax_rate* )\n",
    "\n",
    "## Data Sources\n",
    "\n",
    "The following data sources are used to find estimates of the model variables:\n",
    "\n",
    "* The food cost is estimated from data from the USDA’s low-cost food plan national average in June 2014. 2\n",
    "* Child care is based off state-level estimates published by the National Association of Child Care Resource and Referral Agencies. 3\n",
    "* Insurance costs are based on the insurance component of the 2013 Medical Expenditure Panel Survey. 4\n",
    "* Housing costs are estimated from the HUD Fair Market Rents (FMR) estimates\n",
    "* Other variables are pulled from the 2014 Bureau of Labor Statistics Consumer Expenditure Survey. 5\n",
    "\n",
    "These data sets extend into the past, allowing for calculating the model for years past. The data will also have to be adjusted for inflation 6.\n",
    "\n",
    "## Analytic Approach\n",
    "\n",
    "First, data will be gathered from the data sources of the original model but will be extended into the past. The methodology followed by the model will be replicated to come up with a data set representing estimates of the living wage across time. After the data set is prepared, the trend of the living wage as compared to minimum wage can be examined. Has the gap increased or decreased over time, and at what rate? Have certain areas seen larger than average increases or decreases in this gap? \n",
    "\n",
    "Once preliminary trend analysis is done, this data set will be analyzed in comparison to other economic trends to see if any interesting correlations can be found. Correlations to GDP growth rate and the national rate of unemployment can be made, but the primary investigation will be to see if the living wage gap correlates to national spending on SNAP (Food stamps). In other words, we will see if there is any (potentially time lagged) relationship between the living wage gap and how much the United States needs to spend to support those who cannot make ends meet. A relationship here can potentially indicate that shrinking this gap could lower public expenditures.\n",
    "\n",
    "\n",
    "## Presentation Of Results\n",
    "\n",
    "Results will be presented for both parts of the data analysis. For studying the living wage gap trends, this report will present graphs of time series, aggregated in different ways, of the living wage as well as the living wage gap. Some of these time series will be presented along side data on public expenditures on SNAP to visually inspect for correlations.\n",
    "\n",
    "## Background / Sources\n",
    "\n",
    "- Glasmeier AK, Nadeau CA, Schultheis E: LIVING WAGE CALCULATOR User’s Guide / Technical Notes 2014 Update\n",
    "- USDA low-cost food plan, June, 2014\n",
    "- Child Care in America 2014 State fact sheets\n",
    "- 2013 Medical Expenditure Panel Survey Available\n",
    "- Consumer Expenditure Survey\n",
    "- Inflation Calculator"
   ]
  },
  {
   "cell_type": "markdown",
   "metadata": {},
   "source": [
    "---------------------------\n",
    "\n",
    "# Pre-Data Collection\n",
    "\n",
    "Lets do all of our imports now:"
   ]
  },
  {
   "cell_type": "code",
   "execution_count": 29,
   "metadata": {
    "collapsed": true
   },
   "outputs": [],
   "source": [
    "import numpy as np\n",
    "from prettytable import PrettyTable\n",
    "from IPython.core.display import HTML\n",
    "from collections import OrderedDict"
   ]
  },
  {
   "cell_type": "markdown",
   "metadata": {},
   "source": [
    "Lets setup some inflation multipliers:"
   ]
  },
  {
   "cell_type": "code",
   "execution_count": 3,
   "metadata": {
    "collapsed": true
   },
   "outputs": [],
   "source": [
    "# Multiply a dollar value to get the equivalent 2014 dollars\n",
    "inflation_multipliers = {\n",
    "    2010: 1.092609, \n",
    "    2011: 1.059176,\n",
    "    2012: 1.037701,\n",
    "    2013: 1.022721\n",
    "}"
   ]
  },
  {
   "cell_type": "markdown",
   "metadata": {},
   "source": [
    "Lets setup regional differences for the food data:"
   ]
  },
  {
   "cell_type": "code",
   "execution_count": 18,
   "metadata": {
    "collapsed": false
   },
   "outputs": [],
   "source": [
    "# Multiply price of food by regional multipler to get better estimate of food costs\n",
    "food_regional_multipliers = {\n",
    "    'East': 0.08,\n",
    "    'West': 0.11,\n",
    "    'South': -0.07,\n",
    "    'Midwest': -0.05,\n",
    "}"
   ]
  },
  {
   "cell_type": "markdown",
   "metadata": {},
   "source": [
    "------------------------\n",
    "\n",
    "# Data Collection\n",
    "\n",
    "The following sections will outline how I gathered the data for the various model parameters as well as other data we need to calculate their values. The original model was made for 2014 data and extending this data to the past means we need to be careful that any changes in the underlying data methodology of these parameters needs to be noted.\n",
    "\n",
    "## County Data\n",
    "\n",
    "*TODO*"
   ]
  },
  {
   "cell_type": "code",
   "execution_count": 23,
   "metadata": {
    "collapsed": true
   },
   "outputs": [],
   "source": [
    "# Counties dict will map county ID to useful infomation, mostly region\n",
    "counties = { }"
   ]
  },
  {
   "cell_type": "markdown",
   "metadata": {
    "collapsed": true
   },
   "source": [
    "## Food\n",
    "\n",
    "### Change of Methodology?\n",
    "\n",
    "In 2006, the data from the USDA changed the age ranges for their halthy meal cost calculations. The differences in range are minimal and should not effect overall estimations\n",
    "\n",
    "### Load Data\n",
    "\n",
    "Data for the food calculations have been successfully downloaded in PDF form. The main way to calculate this is, from the PDF:\n",
    "\n",
    ">Adult  food  consumption  costs  are  estimated  by  averaging  the  low - cost  plan  food  costs for  males  and  females  between  19  and  50"
   ]
  },
  {
   "cell_type": "code",
   "execution_count": 32,
   "metadata": {
    "collapsed": false
   },
   "outputs": [
    {
     "data": {
      "text/html": [
       "<table>\n",
       "    <tr>\n",
       "        <th>Year</th>\n",
       "        <th>Food Cost (per month)</th>\n",
       "        <th>Food Cost (West)</th>\n",
       "        <th>Food Cost (East)</th>\n",
       "        <th>Food Cost (Midwest)</th>\n",
       "        <th>Food Cost (South)</th>\n",
       "    </tr>\n",
       "    <tr>\n",
       "        <td>2001</td>\n",
       "        <td>156.2</td>\n",
       "        <td>173.382</td>\n",
       "        <td>168.696</td>\n",
       "        <td>148.39</td>\n",
       "        <td>145.266</td>\n",
       "    </tr>\n",
       "    <tr>\n",
       "        <td>2002</td>\n",
       "        <td>159.45</td>\n",
       "        <td>176.9895</td>\n",
       "        <td>172.206</td>\n",
       "        <td>151.4775</td>\n",
       "        <td>148.2885</td>\n",
       "    </tr>\n",
       "    <tr>\n",
       "        <td>2003</td>\n",
       "        <td>162.95</td>\n",
       "        <td>180.8745</td>\n",
       "        <td>175.986</td>\n",
       "        <td>154.8025</td>\n",
       "        <td>151.5435</td>\n",
       "    </tr>\n",
       "    <tr>\n",
       "        <td>2004</td>\n",
       "        <td>171.3</td>\n",
       "        <td>190.143</td>\n",
       "        <td>185.004</td>\n",
       "        <td>162.735</td>\n",
       "        <td>159.309</td>\n",
       "    </tr>\n",
       "    <tr>\n",
       "        <td>2005</td>\n",
       "        <td>174.15</td>\n",
       "        <td>193.3065</td>\n",
       "        <td>188.082</td>\n",
       "        <td>165.4425</td>\n",
       "        <td>161.9595</td>\n",
       "    </tr>\n",
       "    <tr>\n",
       "        <td>2006</td>\n",
       "        <td>177.25</td>\n",
       "        <td>196.7475</td>\n",
       "        <td>191.43</td>\n",
       "        <td>168.3875</td>\n",
       "        <td>164.8425</td>\n",
       "    </tr>\n",
       "    <tr>\n",
       "        <td>2007</td>\n",
       "        <td>187.15</td>\n",
       "        <td>207.7365</td>\n",
       "        <td>202.122</td>\n",
       "        <td>177.7925</td>\n",
       "        <td>174.0495</td>\n",
       "    </tr>\n",
       "    <tr>\n",
       "        <td>2008</td>\n",
       "        <td>203.25</td>\n",
       "        <td>225.6075</td>\n",
       "        <td>219.51</td>\n",
       "        <td>193.0875</td>\n",
       "        <td>189.0225</td>\n",
       "    </tr>\n",
       "    <tr>\n",
       "        <td>2009</td>\n",
       "        <td>202.2</td>\n",
       "        <td>224.442</td>\n",
       "        <td>218.376</td>\n",
       "        <td>192.09</td>\n",
       "        <td>188.046</td>\n",
       "    </tr>\n",
       "    <tr>\n",
       "        <td>2010</td>\n",
       "        <td>202.0</td>\n",
       "        <td>224.22</td>\n",
       "        <td>218.16</td>\n",
       "        <td>191.9</td>\n",
       "        <td>187.86</td>\n",
       "    </tr>\n",
       "    <tr>\n",
       "        <td>2011</td>\n",
       "        <td>211.85</td>\n",
       "        <td>235.1535</td>\n",
       "        <td>228.798</td>\n",
       "        <td>201.2575</td>\n",
       "        <td>197.0205</td>\n",
       "    </tr>\n",
       "    <tr>\n",
       "        <td>2012</td>\n",
       "        <td>218.5</td>\n",
       "        <td>242.535</td>\n",
       "        <td>235.98</td>\n",
       "        <td>207.575</td>\n",
       "        <td>203.205</td>\n",
       "    </tr>\n",
       "    <tr>\n",
       "        <td>2013</td>\n",
       "        <td>219.15</td>\n",
       "        <td>243.2565</td>\n",
       "        <td>236.682</td>\n",
       "        <td>208.1925</td>\n",
       "        <td>203.8095</td>\n",
       "    </tr>\n",
       "    <tr>\n",
       "        <td>2014</td>\n",
       "        <td>225.65</td>\n",
       "        <td>250.4715</td>\n",
       "        <td>243.702</td>\n",
       "        <td>214.3675</td>\n",
       "        <td>209.8545</td>\n",
       "    </tr>\n",
       "    <tr>\n",
       "        <td>2015</td>\n",
       "        <td>224.85</td>\n",
       "        <td>249.5835</td>\n",
       "        <td>242.838</td>\n",
       "        <td>213.6075</td>\n",
       "        <td>209.1105</td>\n",
       "    </tr>\n",
       "</table>"
      ],
      "text/plain": [
       "<IPython.core.display.HTML object>"
      ]
     },
     "execution_count": 32,
     "metadata": {},
     "output_type": "execute_result"
    }
   ],
   "source": [
    "# The base food cost (not regionally weighed) for nation (data pulled manually from PDFs)\n",
    "national_monthly_food_cost_per_year = {\n",
    "    2015: {\"base\": np.average([240.90, 208.80])},\n",
    "    2014: {\"base\": np.average([241.50, 209.80])},\n",
    "    2013: {\"base\": np.average([234.60, 203.70])},\n",
    "    2012: {\"base\": np.average([234.00, 203.00])},\n",
    "    2011: {\"base\": np.average([226.80, 196.90])},\n",
    "    2010: {\"base\": np.average([216.30, 187.70])},\n",
    "    2009: {\"base\": np.average([216.50, 187.90])},\n",
    "    2008: {\"base\": np.average([216.90, 189.60])},\n",
    "    2007: {\"base\": np.average([200.20, 174.10])},\n",
    "    2006: {\"base\": np.average([189.70, 164.80])},\n",
    "    2005: {\"base\": np.average([186.20, 162.10])},\n",
    "    2004: {\"base\": np.average([183.10, 159.50])},\n",
    "    2003: {\"base\": np.average([174.20, 151.70])},\n",
    "    2002: {\"base\": np.average([170.30, 148.60])},\n",
    "    2001: {\"base\": np.average([166.80, 145.60])},\n",
    "}\n",
    "\n",
    "# Create ordered dict to make sure we process things in order\n",
    "national_monthly_food_cost_per_year = OrderedDict(sorted(national_monthly_food_cost_per_year.items(), \n",
    "                                                        key=lambda t: t[0]))\n",
    "\n",
    "# Regionally adjusted\n",
    "for year in national_monthly_food_cost_per_year:\n",
    "    national_monthly_food_cost_per_year[year][\"regional\"] = { }\n",
    "    for region in food_regional_multipliers:\n",
    "        national_monthly_food_cost_per_year[year][\"regional\"][region] = \\\n",
    "            national_monthly_food_cost_per_year[year][\"base\"] + (food_regional_multipliers[region] * national_monthly_food_cost_per_year[year][\"base\"])\n",
    "\n",
    "# national_monthly_food_cost_per_year\n",
    "\n",
    "# TODO: inflation adjusted\n",
    "\n",
    "# Print it nicely\n",
    "pt = PrettyTable()\n",
    "pt.add_column(\"Year\", national_food_cost_per_year.keys())\n",
    "pt.add_column(\"Food Cost (per month)\", [x[\"base\"] for x in national_monthly_food_cost_per_year.values()])\n",
    "for region in food_regional_multipliers:\n",
    "    pt.add_column(\"Food Cost (%s)\" % region, [x[\"regional\"][region] for x in national_monthly_food_cost_per_year.values()])\n",
    "\n",
    "# Print as HTML\n",
    "HTML(pt.get_html_string())"
   ]
  },
  {
   "cell_type": "code",
   "execution_count": null,
   "metadata": {
    "collapsed": false
   },
   "outputs": [],
   "source": [
    "\n"
   ]
  },
  {
   "cell_type": "code",
   "execution_count": null,
   "metadata": {
    "collapsed": true
   },
   "outputs": [],
   "source": []
  }
 ],
 "metadata": {
  "kernelspec": {
   "display_name": "Python 2",
   "language": "python",
   "name": "python2"
  },
  "language_info": {
   "codemirror_mode": {
    "name": "ipython",
    "version": 2
   },
   "file_extension": ".py",
   "mimetype": "text/x-python",
   "name": "python",
   "nbconvert_exporter": "python",
   "pygments_lexer": "ipython2",
   "version": "2.7.6"
  }
 },
 "nbformat": 4,
 "nbformat_minor": 0
}
