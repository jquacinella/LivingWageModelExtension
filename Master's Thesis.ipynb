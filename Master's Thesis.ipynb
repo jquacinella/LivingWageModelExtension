{
 "cells": [
  {
   "cell_type": "markdown",
   "metadata": {},
   "source": [
    "# Master's Thesis - James Quacinella\n",
    "\n",
    "\n",
    "# Abstract\n",
    "\n",
    "**Objectives:** This study will extend an established model for estimating the current living wage in 2015 to the past decade for the purpose of:\n",
    "\n",
    "* an exploratory analysis trends in the gap between the estimated living wage and the minimum wage\n",
    "* evaluating any correlation between the living wage gap and other economic metrics, including public funds spent on social services\n",
    "\n",
    "**Methods:** The original data set for this model is for 2015. This study will extend the data sources of this model into the past to enable trend analysis. Data for economic metrics from public data sources will supplement this data for correlation analysis.\n",
    "\n",
    "\n",
    "# Methods\n",
    "\n",
    "## Model\n",
    "\n",
    "The original model proposed estimated the living wage in terms of 9 variables:\n",
    "\n",
    "** *basic_needs_budget* ** = *food_cost* + *child_care_cost* + ( *insurance_premiums* + *health_care_costs* ) + *housing_cost* + *transportation_cost* + *other_necessities_cost*\n",
    "\n",
    "** *living_wage* ** = *basic_needs_budget* + ( *basic_needs_budget* \\* *tax_rate* )\n",
    "\n",
    "## Data Sources\n",
    "\n",
    "The following data sources are used to find estimates of the model variables:\n",
    "\n",
    "* The food cost is estimated from data from the USDA’s low-cost food plan national average in June 2014. 2\n",
    "* Child care is based off state-level estimates published by the National Association of Child Care Resource and Referral Agencies. 3\n",
    "* Insurance costs are based on the insurance component of the 2013 Medical Expenditure Panel Survey. 4\n",
    "* Housing costs are estimated from the HUD Fair Market Rents (FMR) estimates\n",
    "* Other variables are pulled from the 2014 Bureau of Labor Statistics Consumer Expenditure Survey. 5\n",
    "\n",
    "These data sets extend into the past, allowing for calculating the model for years past. The data will also have to be adjusted for inflation 6.\n",
    "\n",
    "## Analytic Approach\n",
    "\n",
    "First, data will be gathered from the data sources of the original model but will be extended into the past. The methodology followed by the model will be replicated to come up with a data set representing estimates of the living wage across time. After the data set is prepared, the trend of the living wage as compared to minimum wage can be examined. Has the gap increased or decreased over time, and at what rate? Have certain areas seen larger than average increases or decreases in this gap? \n",
    "\n",
    "Once preliminary trend analysis is done, this data set will be analyzed in comparison to other economic trends to see if any interesting correlations can be found. Correlations to GDP growth rate and the national rate of unemployment can be made, but the primary investigation will be to see if the living wage gap correlates to national spending on SNAP (Food stamps). In other words, we will see if there is any (potentially time lagged) relationship between the living wage gap and how much the United States needs to spend to support those who cannot make ends meet. A relationship here can potentially indicate that shrinking this gap could lower public expenditures.\n",
    "\n",
    "\n",
    "## Presentation Of Results\n",
    "\n",
    "Results will be presented for both parts of the data analysis. For studying the living wage gap trends, this report will present graphs of time series, aggregated in different ways, of the living wage as well as the living wage gap. Some of these time series will be presented along side data on public expenditures on SNAP to visually inspect for correlations.\n",
    "\n",
    "## Background / Sources\n",
    "\n",
    "- Glasmeier AK, Nadeau CA, Schultheis E: LIVING WAGE CALCULATOR User’s Guide / Technical Notes 2014 Update\n",
    "- USDA low-cost food plan, June, 2014\n",
    "- Child Care in America 2014 State fact sheets\n",
    "- 2013 Medical Expenditure Panel Survey Available\n",
    "- Consumer Expenditure Survey\n",
    "- Inflation Calculator"
   ]
  },
  {
   "cell_type": "markdown",
   "metadata": {},
   "source": [
    "---------------------------\n",
    "\n",
    "# Pre-Data Collection\n",
    "\n",
    "Lets do all of our imports now:"
   ]
  },
  {
   "cell_type": "code",
   "execution_count": 118,
   "metadata": {
    "collapsed": true
   },
   "outputs": [],
   "source": [
    "import numpy as np\n",
    "from prettytable import PrettyTable\n",
    "from IPython.core.display import HTML\n",
    "from collections import OrderedDict, defaultdict"
   ]
  },
  {
   "cell_type": "markdown",
   "metadata": {},
   "source": [
    "Lets setup some inflation multipliers:"
   ]
  },
  {
   "cell_type": "code",
   "execution_count": 71,
   "metadata": {
    "collapsed": true
   },
   "outputs": [],
   "source": [
    "# Multiply a dollar value to get the equivalent 2014 dollars\n",
    "inflation_multipliers = {\n",
    "    2010: 1.092609, \n",
    "    2011: 1.059176,\n",
    "    2012: 1.037701,\n",
    "    2013: 1.022721\n",
    "}"
   ]
  },
  {
   "cell_type": "markdown",
   "metadata": {},
   "source": [
    "Lets setup regional differences for the food data:"
   ]
  },
  {
   "cell_type": "code",
   "execution_count": 70,
   "metadata": {
    "collapsed": false
   },
   "outputs": [],
   "source": [
    "# Multiply price of food by regional multipler to get better estimate of food costs\n",
    "food_regional_multipliers = {\n",
    "    'East': 0.08,\n",
    "    'West': 0.11,\n",
    "    'South': -0.07,\n",
    "    'Midwest': -0.05,\n",
    "}"
   ]
  },
  {
   "cell_type": "markdown",
   "metadata": {},
   "source": [
    "------\n",
    "\n",
    "#  Data Collection\n",
    "\n",
    "The following sections will outline how I gathered the data for the various model parameters as well as other data we need to calculate their values. The original model was made for 2014 data and extending this data to the past means we need to be careful that any changes in the underlying data methodology of these parameters needs to be noted.\n",
    "\n",
    "## Data Sources\n",
    "\n",
    "### Consumer Expenditure Report"
   ]
  },
  {
   "cell_type": "code",
   "execution_count": null,
   "metadata": {
    "collapsed": false
   },
   "outputs": [],
   "source": [
    "# Get CEX for 2013 and 2014 (XLSX format)\n",
    "for i in `seq 2013 2014`; do wget http://www.bls.gov/cex/$i/aggregate/cusize.xlsx -O ${i}_cex.xlsx; done\n",
    "\n",
    "# Get CEX for 2004 - 2012 (XLS format)\n",
    "for i in `seq 2004 2012`; do wget http://www.bls.gov/cex/$i/aggregate/cusize.xls -O ${i}_cex.xls; done\n",
    "\n",
    "# Get CEX for 2001 to 2003 (TXT format)\n",
    "for i in `seq 2001 2003`; do wget http://www.bls.gov/cex/aggregate/$i/cusize.xls -O ${i}_cex.txt; done\n",
    "\n",
    "\n",
    "# Get CEX for 2013 and 2014 (XLSX format)\n",
    "for i in `seq 2013 2014`; do wget http://www.bls.gov/cex/$i/aggregate/region.xlsx -O ${i}_region_cex.xlsx; done\n",
    "\n",
    "# Get CEX for 2004 - 2012 (XLS format)\n",
    "for i in `seq 2004 2012`; do wget http://www.bls.gov/cex/$i/aggregate/region.xls -O ${i}_region_cex.xls; done\n",
    "\n",
    "# Get CEX for 2001 to 2003 (TXT format)\n",
    "for i in `seq 2001 2003`; do wget http://www.bls.gov/cex/aggregate/$i/region.xls -O ${i}_region_cex.txt; done"
   ]
  },
  {
   "cell_type": "markdown",
   "metadata": {},
   "source": [
    "### USDA Food Plans\n",
    "\n",
    "**TODO** Fill in with wget command used to download"
   ]
  },
  {
   "cell_type": "code",
   "execution_count": null,
   "metadata": {
    "collapsed": true
   },
   "outputs": [],
   "source": []
  },
  {
   "cell_type": "markdown",
   "metadata": {},
   "source": [
    "## County Data\n",
    "\n",
    "*TODO*"
   ]
  },
  {
   "cell_type": "code",
   "execution_count": 23,
   "metadata": {
    "collapsed": true
   },
   "outputs": [],
   "source": [
    "# Counties dict will map county ID to useful infomation, mostly region\n",
    "counties = { }"
   ]
  },
  {
   "cell_type": "markdown",
   "metadata": {
    "collapsed": true
   },
   "source": [
    "## Model Variable: Food\n",
    "\n",
    "### Change of Methodology?\n",
    "\n",
    "In 2006, the data from the USDA changed the age ranges for their halthy meal cost calculations. The differences in range are minimal and should not effect overall estimations.\n",
    "\n",
    "### Load Data\n",
    "\n",
    "Data for the food calculations have been successfully downloaded in PDF form. The main way to calculate this is, from the PDF:\n",
    "\n",
    ">Adult  food  consumption  costs  are  estimated  by  averaging  the  low - cost  plan  food  costs for  males  and  females  between  19  and  50"
   ]
  },
  {
   "cell_type": "code",
   "execution_count": 124,
   "metadata": {
    "collapsed": false
   },
   "outputs": [],
   "source": [
    "# The base food cost (not regionally weighed) for nation (data pulled manually from PDFs)\n",
    "national_monthly_food_cost_per_year = {\n",
    "    2015: {\"base\": np.average([240.90, 208.80])},\n",
    "    2014: {\"base\": np.average([241.50, 209.80])},\n",
    "    2013: {\"base\": np.average([234.60, 203.70])},\n",
    "    2012: {\"base\": np.average([234.00, 203.00])},\n",
    "    2011: {\"base\": np.average([226.80, 196.90])},\n",
    "    2010: {\"base\": np.average([216.30, 187.70])},\n",
    "    2009: {\"base\": np.average([216.50, 187.90])},\n",
    "    2008: {\"base\": np.average([216.90, 189.60])},\n",
    "    2007: {\"base\": np.average([200.20, 174.10])},\n",
    "    2006: {\"base\": np.average([189.70, 164.80])},\n",
    "    2005: {\"base\": np.average([186.20, 162.10])},\n",
    "    2004: {\"base\": np.average([183.10, 159.50])},\n",
    "    2003: {\"base\": np.average([174.20, 151.70])},\n",
    "    2002: {\"base\": np.average([170.30, 148.60])},\n",
    "    2001: {\"base\": np.average([166.80, 145.60])},\n",
    "}\n",
    "\n",
    "# Create ordered dict to make sure we process things in order\n",
    "national_monthly_food_cost_per_year = OrderedDict(sorted(national_monthly_food_cost_per_year.items(), \n",
    "                                                        key=lambda t: t[0]))\n",
    "\n",
    "# Regionally adjusted\n",
    "for year in national_monthly_food_cost_per_year:\n",
    "    national_monthly_food_cost_per_year[year][\"regional\"] = { }\n",
    "    for region in food_regional_multipliers:\n",
    "        national_monthly_food_cost_per_year[year][\"regional\"][region] = \\\n",
    "            national_monthly_food_cost_per_year[year][\"base\"] + (food_regional_multipliers[region] * national_monthly_food_cost_per_year[year][\"base\"])\n",
    "\n",
    "# national_monthly_food_cost_per_year\n",
    "\n",
    "# TODO: inflation adjusted\n",
    "\n",
    "# # Print it nicely\n",
    "# pt = PrettyTable()\n",
    "# pt.add_column(\"Year\", national_monthly_food_cost_per_year.keys())\n",
    "# pt.add_column(\"Food Cost (per month)\", [x[\"base\"] for x in national_monthly_food_cost_per_year.values()])\n",
    "# for region in food_regional_multipliers:\n",
    "#     pt.add_column(\"Food Cost (%s)\" % region, [x[\"regional\"][region] for x in national_monthly_food_cost_per_year.values()])\n",
    "\n",
    "# # Print as HTML\n",
    "# HTML(pt.get_html_string())"
   ]
  },
  {
   "cell_type": "markdown",
   "metadata": {},
   "source": [
    "In yearly form:"
   ]
  },
  {
   "cell_type": "code",
   "execution_count": 75,
   "metadata": {
    "collapsed": false
   },
   "outputs": [
    {
     "data": {
      "text/html": [
       "<table>\n",
       "    <tr>\n",
       "        <th>Year</th>\n",
       "        <th>Food Cost (per year)</th>\n",
       "        <th>Food Cost (West)</th>\n",
       "        <th>Food Cost (East)</th>\n",
       "        <th>Food Cost (Midwest)</th>\n",
       "        <th>Food Cost (South)</th>\n",
       "    </tr>\n",
       "    <tr>\n",
       "        <td>2001</td>\n",
       "        <td>1874.4</td>\n",
       "        <td>2080.584</td>\n",
       "        <td>2024.352</td>\n",
       "        <td>1780.68</td>\n",
       "        <td>1743.192</td>\n",
       "    </tr>\n",
       "    <tr>\n",
       "        <td>2002</td>\n",
       "        <td>1913.4</td>\n",
       "        <td>2123.874</td>\n",
       "        <td>2066.472</td>\n",
       "        <td>1817.73</td>\n",
       "        <td>1779.462</td>\n",
       "    </tr>\n",
       "    <tr>\n",
       "        <td>2003</td>\n",
       "        <td>1955.4</td>\n",
       "        <td>2170.494</td>\n",
       "        <td>2111.832</td>\n",
       "        <td>1857.63</td>\n",
       "        <td>1818.522</td>\n",
       "    </tr>\n",
       "    <tr>\n",
       "        <td>2004</td>\n",
       "        <td>2055.6</td>\n",
       "        <td>2281.716</td>\n",
       "        <td>2220.048</td>\n",
       "        <td>1952.82</td>\n",
       "        <td>1911.708</td>\n",
       "    </tr>\n",
       "    <tr>\n",
       "        <td>2005</td>\n",
       "        <td>2089.8</td>\n",
       "        <td>2319.678</td>\n",
       "        <td>2256.984</td>\n",
       "        <td>1985.31</td>\n",
       "        <td>1943.514</td>\n",
       "    </tr>\n",
       "    <tr>\n",
       "        <td>2006</td>\n",
       "        <td>2127.0</td>\n",
       "        <td>2360.97</td>\n",
       "        <td>2297.16</td>\n",
       "        <td>2020.65</td>\n",
       "        <td>1978.11</td>\n",
       "    </tr>\n",
       "    <tr>\n",
       "        <td>2007</td>\n",
       "        <td>2245.8</td>\n",
       "        <td>2492.838</td>\n",
       "        <td>2425.464</td>\n",
       "        <td>2133.51</td>\n",
       "        <td>2088.594</td>\n",
       "    </tr>\n",
       "    <tr>\n",
       "        <td>2008</td>\n",
       "        <td>2439.0</td>\n",
       "        <td>2707.29</td>\n",
       "        <td>2634.12</td>\n",
       "        <td>2317.05</td>\n",
       "        <td>2268.27</td>\n",
       "    </tr>\n",
       "    <tr>\n",
       "        <td>2009</td>\n",
       "        <td>2426.4</td>\n",
       "        <td>2693.304</td>\n",
       "        <td>2620.512</td>\n",
       "        <td>2305.08</td>\n",
       "        <td>2256.552</td>\n",
       "    </tr>\n",
       "    <tr>\n",
       "        <td>2010</td>\n",
       "        <td>2424.0</td>\n",
       "        <td>2690.64</td>\n",
       "        <td>2617.92</td>\n",
       "        <td>2302.8</td>\n",
       "        <td>2254.32</td>\n",
       "    </tr>\n",
       "    <tr>\n",
       "        <td>2011</td>\n",
       "        <td>2542.2</td>\n",
       "        <td>2821.842</td>\n",
       "        <td>2745.576</td>\n",
       "        <td>2415.09</td>\n",
       "        <td>2364.246</td>\n",
       "    </tr>\n",
       "    <tr>\n",
       "        <td>2012</td>\n",
       "        <td>2622.0</td>\n",
       "        <td>2910.42</td>\n",
       "        <td>2831.76</td>\n",
       "        <td>2490.9</td>\n",
       "        <td>2438.46</td>\n",
       "    </tr>\n",
       "    <tr>\n",
       "        <td>2013</td>\n",
       "        <td>2629.8</td>\n",
       "        <td>2919.078</td>\n",
       "        <td>2840.184</td>\n",
       "        <td>2498.31</td>\n",
       "        <td>2445.714</td>\n",
       "    </tr>\n",
       "    <tr>\n",
       "        <td>2014</td>\n",
       "        <td>2707.8</td>\n",
       "        <td>3005.658</td>\n",
       "        <td>2924.424</td>\n",
       "        <td>2572.41</td>\n",
       "        <td>2518.254</td>\n",
       "    </tr>\n",
       "    <tr>\n",
       "        <td>2015</td>\n",
       "        <td>2698.2</td>\n",
       "        <td>2995.002</td>\n",
       "        <td>2914.056</td>\n",
       "        <td>2563.29</td>\n",
       "        <td>2509.326</td>\n",
       "    </tr>\n",
       "</table>"
      ],
      "text/plain": [
       "<IPython.core.display.HTML object>"
      ]
     },
     "execution_count": 75,
     "metadata": {},
     "output_type": "execute_result"
    }
   ],
   "source": [
    "# Print it nicely in yearly costs\n",
    "pt = PrettyTable()\n",
    "pt.add_column(\"Year\", national_monthly_food_cost_per_year.keys())\n",
    "pt.add_column(\"Food Cost (per year)\", [x[\"base\"] * 12 for x in national_monthly_food_cost_per_year.values()])\n",
    "for region in food_regional_multipliers:\n",
    "    pt.add_column(\"Food Cost (%s)\" % region, [x[\"regional\"][region] * 12 for x in national_monthly_food_cost_per_year.values()])\n",
    "\n",
    "# Print as HTML\n",
    "HTML(pt.get_html_string())"
   ]
  },
  {
   "cell_type": "markdown",
   "metadata": {},
   "source": [
    "## Model Variable: Transportation Cost\n",
    "\n",
    "Looking at the (1) Cars and trucks (used), (2) gasoline and motor oil, (3) other vehicle expenses, and (4)  public  transportation fields under \"Transportation\" in the 2014 Consumer Expenditure Report, we can pull out information from each to model the claculation done in the original model. For each sub-variable, we get the amount of money (in millions) and the percentgae of that that single adults spend. After multiple those numbers (accounting for units) and dividiing by the total number of single adults in the survey gives us a mean total cost per adult.\n",
    "\n",
    "The original model takes into account regional drift by scaling based on each regions\n",
    "\n",
    "Since this data reflects conditions in 2013, we account for inflation to get the 2014 estimate that is produced in the original model.\n",
    "\n",
    "#TODO:\n",
    "\n",
    "* Download Regional Diffdata from 2014 Consumer Expenditure Survey, Table 1800 \n",
    "* Load in both into pandas data frames\n",
    "* Download data from 2001 to 2013\n",
    "* Load in all data into previous pandas data frames"
   ]
  },
  {
   "cell_type": "code",
   "execution_count": 122,
   "metadata": {
    "collapsed": false
   },
   "outputs": [
    {
     "data": {
      "text/html": [
       "<table>\n",
       "    <tr>\n",
       "        <th>Year</th>\n",
       "        <th>Trans Cost (base)</th>\n",
       "        <th>Trans Cost (east)</th>\n",
       "        <th>Trans Cost (midwest)</th>\n",
       "        <th>Trans Cost (south)</th>\n",
       "        <th>Trans Cost (west)</th>\n",
       "    </tr>\n",
       "    <tr>\n",
       "        <td>2013</td>\n",
       "        <td>4037.18458744</td>\n",
       "        <td>3728.45870723</td>\n",
       "        <td>4013.43644281</td>\n",
       "        <td>4345.91046766</td>\n",
       "        <td>3823.45128575</td>\n",
       "    </tr>\n",
       "</table>"
      ],
      "text/plain": [
       "<IPython.core.display.HTML object>"
      ]
     },
     "execution_count": 122,
     "metadata": {},
     "output_type": "execute_result"
    }
   ],
   "source": [
    "# Transportation data from 2014 survey is for year 2013\n",
    "cex = {\n",
    "    2013: {\n",
    "        \"single_adults\": 37884.0,\n",
    "        \"transport\": {\n",
    "            \"used_car\": 214524.0,\n",
    "            \"gasoline\": 313481.0,\n",
    "            \"other_vehicle\": 345454.0,\n",
    "            \"public\": 73842.0,\n",
    "            \"used_car_percent\": 0.146,\n",
    "            \"gasoline_percent\": 0.157,\n",
    "            \"other_vehicle_percent\": 0.163,\n",
    "            \"public_percent\": 0.172,\n",
    "            \"regional\": {\n",
    "                \"east\": 15.7 / 17.0,     # 0.923\n",
    "                \"midwest\": 16.9 / 17.0,  # 0.994\n",
    "                \"south\": 18.3 / 17.0,    # 1.076\n",
    "                \"west\": 16.1 / 17.0,     # 0.947\n",
    "            }\n",
    "        }\n",
    "    },\n",
    "}\n",
    "\n",
    "# Base price for transport\n",
    "transportation_costs = defaultdict(dict)\n",
    "transportation_costs[2013][\"base\"] = \\\n",
    "    (1000000 * ((cex[2013][\"transport\"][\"used_car\"] * cex[2013][\"transport\"][\"used_car_percent\"]) + \\\n",
    "                (cex[2013][\"transport\"][\"gasoline\"] * cex[2013][\"transport\"][\"gasoline_percent\"]) + \\\n",
    "                (cex[2013][\"transport\"][\"other_vehicle\"] * cex[2013][\"transport\"][\"other_vehicle_percent\"] ) + \\\n",
    "                (cex[2013][\"transport\"][\"public\"] * cex[2013][\"transport\"][\"public_percent\"] )) /  float(cex[2013][\"single_adults\"] * 1000) ) * inflation_multipliers[2013]\n",
    "\n",
    "# Account for regional drift\n",
    "for region in cex[2013][\"transport\"][\"regional\"]:\n",
    "    transportation_costs[2013][region] = transportation_costs[2013][\"base\"] * cex[2013][\"transport\"][\"regional\"][region]\n",
    "\n",
    "# Print it nicely\n",
    "pt = PrettyTable()\n",
    "pt.add_column(\"Year\", transportation_costs.keys())\n",
    "for region in sorted(transportation_costs[2013].keys()):\n",
    "    pt.add_column(\"Trans Cost (%s)\" % region, [ transportation_costs[year][region] for year in transportation_costs  ])\n",
    "\n",
    "# Print as HTML\n",
    "HTML(pt.get_html_string())"
   ]
  },
  {
   "cell_type": "code",
   "execution_count": 111,
   "metadata": {
    "collapsed": false
   },
   "outputs": [],
   "source": [
    "used_car_rations = (2.5 / 3.2, 3.5 / 3.2, 3.5 / 3.2, 2.9 / 3.2)\n",
    "gas_rations = (3.8 / 4.6, 4.7 / 4.6, 5.2 / 4.6, 4.5 / 4.6)\n",
    "other_rations = (5.2 / 5.1, 5.0  / 5.1, 5.1 / 5.1,  5.1 / 5.1)\n",
    "public_rations = (1.6/1.1,  0.9/1.1,  0.8/1.1, 1.2/1.1)"
   ]
  },
  {
   "cell_type": "code",
   "execution_count": 123,
   "metadata": {
    "collapsed": false
   },
   "outputs": [
    {
     "name": "stdout",
     "output_type": "stream",
     "text": [
      "3806.81172532\n",
      "4053.19012053\n",
      "4196.24523506\n",
      "3960.20242085\n"
     ]
    }
   ],
   "source": [
    "for region in range(4):\n",
    "    print(1000000 * ((cex[2013][\"transport\"][\"used_car\"] * cex[2013][\"transport\"][\"used_car_percent\"] * used_car_rations[region]) + \\\n",
    "                (cex[2013][\"transport\"][\"gasoline\"] * cex[2013][\"transport\"][\"gasoline_percent\"] * gas_rations[region]) + \\\n",
    "                (cex[2013][\"transport\"][\"other_vehicle\"] * cex[2013][\"transport\"][\"other_vehicle_percent\"] * other_rations[region]) + \\\n",
    "                (cex[2013][\"transport\"][\"public\"] * cex[2013][\"transport\"][\"public_percent\"] * public_rations[region])) /  float(cex[2013][\"single_adults\"] * 1000) ) * inflation_multipliers[2013]\n"
   ]
  },
  {
   "cell_type": "code",
   "execution_count": 109,
   "metadata": {
    "collapsed": false
   },
   "outputs": [
    {
     "data": {
      "text/plain": [
       "0.008732546062667405"
      ]
     },
     "execution_count": 109,
     "metadata": {},
     "output_type": "execute_result"
    }
   ],
   "source": []
  },
  {
   "cell_type": "markdown",
   "metadata": {},
   "source": [
    "## Model Variable: Child Care Cost"
   ]
  },
  {
   "cell_type": "code",
   "execution_count": null,
   "metadata": {
    "collapsed": true
   },
   "outputs": [],
   "source": []
  },
  {
   "cell_type": "markdown",
   "metadata": {},
   "source": [
    "## Insurance Premiums & Health Care Costs"
   ]
  },
  {
   "cell_type": "code",
   "execution_count": null,
   "metadata": {
    "collapsed": true
   },
   "outputs": [],
   "source": []
  },
  {
   "cell_type": "markdown",
   "metadata": {},
   "source": [
    "## Model Variable: Housing Cost"
   ]
  },
  {
   "cell_type": "code",
   "execution_count": null,
   "metadata": {
    "collapsed": true
   },
   "outputs": [],
   "source": []
  },
  {
   "cell_type": "markdown",
   "metadata": {
    "collapsed": false
   },
   "source": [
    "## Other Necessities Cost"
   ]
  },
  {
   "cell_type": "code",
   "execution_count": null,
   "metadata": {
    "collapsed": true
   },
   "outputs": [],
   "source": []
  }
 ],
 "metadata": {
  "kernelspec": {
   "display_name": "Python 2",
   "language": "python",
   "name": "python2"
  },
  "language_info": {
   "codemirror_mode": {
    "name": "ipython",
    "version": 2
   },
   "file_extension": ".py",
   "mimetype": "text/x-python",
   "name": "python",
   "nbconvert_exporter": "python",
   "pygments_lexer": "ipython2",
   "version": "2.7.6"
  }
 },
 "nbformat": 4,
 "nbformat_minor": 0
}
