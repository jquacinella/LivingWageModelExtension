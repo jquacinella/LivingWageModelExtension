{
 "cells": [
  {
   "cell_type": "markdown",
   "metadata": {},
   "source": [
    "# Master's Thesis - James Quacinella\n",
    "\n",
    "\n",
    "# Abstract\n",
    "\n",
    "**Objectives:** This study will extend an established model for estimating the current living wage in 2015 to the past decade for the purpose of:\n",
    "\n",
    "* an exploratory analysis trends in the gap between the estimated living wage and the minimum wage\n",
    "* evaluating any correlation between the living wage gap and other economic metrics, including public funds spent on social services\n",
    "\n",
    "**Methods:** The original data set for this model is for 2015. This study will extend the data sources of this model into the past to enable trend analysis. Data for economic metrics from public data sources will supplement this data for correlation analysis.\n",
    "\n",
    "\n",
    "# Methods\n",
    "\n",
    "## Model\n",
    "\n",
    "The original model proposed estimated the living wage in terms of 9 variables:\n",
    "\n",
    "** *basic_needs_budget* ** = *food_cost* + *child_care_cost* + ( *insurance_premiums* + *health_care_costs* ) + *housing_cost* + *transportation_cost* + *other_necessities_cost*\n",
    "\n",
    "** *living_wage* ** = *basic_needs_budget* + ( *basic_needs_budget* \\* *tax_rate* )\n",
    "\n",
    "## Data Sources\n",
    "\n",
    "The following data sources are used to find estimates of the model variables:\n",
    "\n",
    "* The food cost is estimated from data from the USDA’s low-cost food plan national average in June 2014. 2\n",
    "* Child care is based off state-level estimates published by the National Association of Child Care Resource and Referral Agencies. 3\n",
    "* Insurance costs are based on the insurance component of the 2013 Medical Expenditure Panel Survey. 4\n",
    "* Housing costs are estimated from the HUD Fair Market Rents (FMR) estimates\n",
    "* Other variables are pulled from the 2014 Bureau of Labor Statistics Consumer Expenditure Survey. 5\n",
    "\n",
    "These data sets extend into the past, allowing for calculating the model for years past. The data will also have to be adjusted for inflation 6.\n",
    "\n",
    "## Analytic Approach\n",
    "\n",
    "First, data will be gathered from the data sources of the original model but will be extended into the past. The methodology followed by the model will be replicated to come up with a data set representing estimates of the living wage across time. After the data set is prepared, the trend of the living wage as compared to minimum wage can be examined. Has the gap increased or decreased over time, and at what rate? Have certain areas seen larger than average increases or decreases in this gap? \n",
    "\n",
    "Once preliminary trend analysis is done, this data set will be analyzed in comparison to other economic trends to see if any interesting correlations can be found. Correlations to GDP growth rate and the national rate of unemployment can be made, but the primary investigation will be to see if the living wage gap correlates to national spending on SNAP (Food stamps). In other words, we will see if there is any (potentially time lagged) relationship between the living wage gap and how much the United States needs to spend to support those who cannot make ends meet. A relationship here can potentially indicate that shrinking this gap could lower public expenditures.\n",
    "\n",
    "\n",
    "## Presentation Of Results\n",
    "\n",
    "Results will be presented for both parts of the data analysis. For studying the living wage gap trends, this report will present graphs of time series, aggregated in different ways, of the living wage as well as the living wage gap. Some of these time series will be presented along side data on public expenditures on SNAP to visually inspect for correlations.\n",
    "\n",
    "## Background / Sources\n",
    "\n",
    "- Glasmeier AK, Nadeau CA, Schultheis E: LIVING WAGE CALCULATOR User’s Guide / Technical Notes 2014 Update\n",
    "- USDA low-cost food plan, June, 2014\n",
    "- Child Care in America 2014 State fact sheets\n",
    "- 2013 Medical Expenditure Panel Survey Available\n",
    "- Consumer Expenditure Survey\n",
    "- Inflation Calculator"
   ]
  },
  {
   "cell_type": "markdown",
   "metadata": {},
   "source": [
    "---------------------------\n",
    "\n",
    "# Pre-Data Collection\n",
    "\n",
    "Lets setup some inflation multipliers:"
   ]
  },
  {
   "cell_type": "code",
   "execution_count": 3,
   "metadata": {
    "collapsed": true
   },
   "outputs": [],
   "source": [
    "# Multiply a dollar value to get the equivalent 2015 dollars\n",
    "inflation_multipliers = {\n",
    "    2010: 1.092609, \n",
    "    2011: 1.059176,\n",
    "    2012: 1.037701,\n",
    "    2013: 1.022721\n",
    "}"
   ]
  },
  {
   "cell_type": "markdown",
   "metadata": {},
   "source": [
    "Lets setup regional differences for the food data:"
   ]
  },
  {
   "cell_type": "code",
   "execution_count": 2,
   "metadata": {
    "collapsed": false
   },
   "outputs": [],
   "source": [
    "# Multiply price of food by regional multipler to get better estimate of food costs\n",
    "food_regional_multipliers = {\n",
    "    'East': 1.08,\n",
    "    'West': 1.11,\n",
    "    'South': -1.07,\n",
    "    'Midwest': -1.05,\n",
    "}"
   ]
  },
  {
   "cell_type": "markdown",
   "metadata": {
    "collapsed": true
   },
   "source": [
    "------------------------\n",
    "\n",
    "# Data Collection\n",
    "\n",
    "## Food\n",
    "\n",
    "Data for the food calculations have been successfully downloaded in PDF form. \n",
    "\n",
    "**TODO:** Need to be converted into data imported into python."
   ]
  }
 ],
 "metadata": {
  "kernelspec": {
   "display_name": "Python 2",
   "language": "python",
   "name": "python2"
  },
  "language_info": {
   "codemirror_mode": {
    "name": "ipython",
    "version": 2
   },
   "file_extension": ".py",
   "mimetype": "text/x-python",
   "name": "python",
   "nbconvert_exporter": "python",
   "pygments_lexer": "ipython2",
   "version": "2.7.6"
  }
 },
 "nbformat": 4,
 "nbformat_minor": 0
}
