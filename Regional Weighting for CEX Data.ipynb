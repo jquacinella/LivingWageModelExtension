{
 "cells": [
  {
   "cell_type": "code",
   "execution_count": 1,
   "metadata": {
    "collapsed": false
   },
   "outputs": [
    {
     "ename": "NameError",
     "evalue": "name 'REGION_EAST' is not defined",
     "output_type": "error",
     "traceback": [
      "\u001b[1;31m---------------------------------------------------------------------------\u001b[0m",
      "\u001b[1;31mNameError\u001b[0m                                 Traceback (most recent call last)",
      "\u001b[1;32m<ipython-input-1-c58e6d2f54f7>\u001b[0m in \u001b[0;36m<module>\u001b[1;34m()\u001b[0m\n\u001b[0;32m     13\u001b[0m             \u001b[1;34m\"public_percent\"\u001b[0m\u001b[1;33m:\u001b[0m \u001b[1;36m0.174\u001b[0m\u001b[1;33m,\u001b[0m\u001b[1;33m\u001b[0m\u001b[0m\n\u001b[0;32m     14\u001b[0m             \"regional\": {\n\u001b[1;32m---> 15\u001b[1;33m                 \u001b[0mREGION_EAST\u001b[0m\u001b[1;33m:\u001b[0m   \u001b[1;36m16.4\u001b[0m \u001b[1;33m/\u001b[0m \u001b[1;36m17.6\u001b[0m\u001b[1;33m,\u001b[0m\u001b[1;33m\u001b[0m\u001b[0m\n\u001b[0m\u001b[0;32m     16\u001b[0m                 \u001b[0mREGION_MIDWEST\u001b[0m\u001b[1;33m:\u001b[0m \u001b[1;36m18.0\u001b[0m \u001b[1;33m/\u001b[0m \u001b[1;36m17.6\u001b[0m\u001b[1;33m,\u001b[0m\u001b[1;33m\u001b[0m\u001b[0m\n\u001b[0;32m     17\u001b[0m                 \u001b[0mREGION_SOUTH\u001b[0m\u001b[1;33m:\u001b[0m \u001b[1;36m18.9\u001b[0m \u001b[1;33m/\u001b[0m \u001b[1;36m17.6\u001b[0m\u001b[1;33m,\u001b[0m\u001b[1;33m\u001b[0m\u001b[0m\n",
      "\u001b[1;31mNameError\u001b[0m: name 'REGION_EAST' is not defined"
     ]
    }
   ],
   "source": [
    "# Transportation data from 2014 survey is for year 2013, etc\n",
    "cex = {\n",
    "    2012: {\n",
    "        \"single_adults\": 37770.0,\n",
    "        \"transport\": {\n",
    "            \"used_car\": 209764.0,\n",
    "            \"gasoline\": 328170.0,\n",
    "            \"other_vehicle\": 324668.0,\n",
    "            \"public\": 67486.0,\n",
    "            \"used_car_percent\": 0.152,\n",
    "            \"gasoline_percent\": 0.158,\n",
    "            \"other_vehicle_percent\": 0.191,\n",
    "            \"public_percent\": 0.174,\n",
    "            \"regional\": {\n",
    "                REGION_EAST:   16.4 / 17.6,  \n",
    "                REGION_MIDWEST: 18.0 / 17.6,\n",
    "                REGION_SOUTH: 18.9 / 17.6,\n",
    "                REGION_WEST: 16.5 / 17.6,\n",
    "            }\n",
    "        }\n",
    "\n",
    "    },\n",
    "    2013: {\n",
    "        \"single_adults\": 37884.0,\n",
    "        \"transport\": {\n",
    "            \"used_car\": 214524.0,\n",
    "            \"gasoline\": 313481.0,\n",
    "            \"other_vehicle\": 345454.0,\n",
    "            \"public\": 73842.0,\n",
    "            \"used_car_percent\": 0.146,\n",
    "            \"gasoline_percent\": 0.157,\n",
    "            \"other_vehicle_percent\": 0.163,\n",
    "            \"public_percent\": 0.172,\n",
    "            \"regional\": {\n",
    "                REGION_EAST: 15.7 / 17.0,     # 0.923\n",
    "                REGION_MIDWEST: 16.9 / 17.0,  # 0.994\n",
    "                REGION_SOUTH: 18.3 / 17.0,    # 1.076\n",
    "                REGION_WEST: 16.1 / 17.0,     # 0.947\n",
    "            }\n",
    "        }\n",
    "    },\n",
    "}\n",
    "\n",
    "# Ideal numbers from model\n",
    "ideal_transport_2013 = (3764, 4569, 4697, 4054)\n",
    "\n",
    "# Base price for transport\n",
    "transportation_costs = defaultdict(dict)\n",
    "\n",
    "for year in cex:\n",
    "    transportation_costs[year][\"base\"] = \\\n",
    "        (1000000 * ((cex[year][\"transport\"][\"used_car\"] * cex[year][\"transport\"][\"used_car_percent\"]) + \\\n",
    "                    (cex[year][\"transport\"][\"gasoline\"] * cex[year][\"transport\"][\"gasoline_percent\"]) + \\\n",
    "                    (cex[year][\"transport\"][\"other_vehicle\"] * cex[year][\"transport\"][\"other_vehicle_percent\"] ) + \\\n",
    "                    (cex[year][\"transport\"][\"public\"] * cex[year][\"transport\"][\"public_percent\"] )) /  float(cex[year][\"single_adults\"] * 1000) ) * inflation_multipliers[year]\n",
    "\n",
    "    # Account for regional drift\n",
    "    for region in cex[year][\"transport\"][\"regional\"]:\n",
    "        transportation_costs[year][region] = transportation_costs[year][\"base\"] * cex[year][\"transport\"][\"regional\"][region]\n",
    "\n",
    "transportation_costs[\"2014_ideal\"][\"base\"] = 0.0\n",
    "transportation_costs[\"2014_ideal\"][REGION_EAST] = ideal_transport_2013[0]\n",
    "transportation_costs[\"2014_ideal\"][REGION_MIDWEST] = ideal_transport_2013[1]\n",
    "transportation_costs[\"2014_ideal\"][REGION_SOUTH] = ideal_transport_2013[2]\n",
    "transportation_costs[\"2014_ideal\"][REGION_WEST] = ideal_transport_2013[3]\n",
    "\n",
    "# Print it nicely\n",
    "errors = []\n",
    "pt = PrettyTable()\n",
    "pt.add_column(\"Year\", transportation_costs.keys())\n",
    "for region in sorted(transportation_costs[2013].keys()):\n",
    "    data = [ transportation_costs[year][region] for year in transportation_costs  ]\n",
    "    pt.add_column(\"Trans Cost (%s)\" % region, data)\n",
    "    errors.append(transportation_costs[\"2014_ideal\"][region] - data[-2])\n",
    "\n",
    "print(sum([np.abs(error) for error in errors]))\n",
    "\n",
    "# Print as HTML\n",
    "HTML(pt.get_html_string())"
   ]
  },
  {
   "cell_type": "markdown",
   "metadata": {},
   "source": [
    "### Testing theory about regional difference"
   ]
  },
  {
   "cell_type": "code",
   "execution_count": null,
   "metadata": {
    "collapsed": true
   },
   "outputs": [],
   "source": [
    "# Order: NE, MW, S, W\n",
    "used_car_rations = (2.5 / 3.2, 3.5 / 3.2, 3.5 / 3.2, 2.9 / 3.2)\n",
    "gas_rations = (3.8 / 4.6, 4.7 / 4.6, 5.2 / 4.6, 4.5 / 4.6)\n",
    "other_rations = (5.2 / 5.1, 5.0  / 5.1, 5.1 / 5.1,  5.1 / 5.1)\n",
    "public_rations = (1.6/1.1,  0.9/1.1,  0.8/1.1, 1.2/1.1)\n",
    "\n",
    "error = []\n",
    "for region in range(4):\n",
    "    val = (1000000 * \n",
    "         ( (\n",
    "            (cex[2013][\"transport\"][\"used_car\"] * cex[2013][\"transport\"][\"used_car_percent\"] * used_car_rations[region]) + \\\n",
    "            (cex[2013][\"transport\"][\"gasoline\"] * cex[2013][\"transport\"][\"gasoline_percent\"] * gas_rations[region]) + \\\n",
    "            (cex[2013][\"transport\"][\"other_vehicle\"] * cex[2013][\"transport\"][\"other_vehicle_percent\"] * other_rations[region]) + \\\n",
    "            (cex[2013][\"transport\"][\"public\"] * cex[2013][\"transport\"][\"public_percent\"] * public_rations[region])\n",
    "        ) /  (float(cex[2013][\"single_adults\"] * 1000)) ) * inflation_multipliers[2013])\n",
    "    errors.append( val - ideal_transport_2013[region] )\n",
    "\n",
    "print(sum([np.abs(error) for error in errors]))"
   ]
  },
  {
   "cell_type": "code",
   "execution_count": null,
   "metadata": {
    "collapsed": true
   },
   "outputs": [],
   "source": [
    "# Calculate regional diff values from aggregated data (since 'combined' only goes back to 2012)\n",
    "print 1/ (6790803*1000000*20.1 / (1152035*1000000*18.6))\n",
    "print 1/ (6790803*1000000*21.7 / (1152035*1000000*21.7))\n",
    "print 1/ (6790803*1000000*34.3 / (1152035*1000000*37.1))\n",
    "print 1/ (6790803*1000000*23.9 / (1152035*1000000*22.6))\n",
    "\n",
    "\n",
    "print 1152035/6790803.0"
   ]
  }
 ],
 "metadata": {
  "kernelspec": {
   "display_name": "Python 2",
   "language": "python",
   "name": "python2"
  },
  "language_info": {
   "codemirror_mode": {
    "name": "ipython",
    "version": 2
   },
   "file_extension": ".py",
   "mimetype": "text/x-python",
   "name": "python",
   "nbconvert_exporter": "python",
   "pygments_lexer": "ipython2",
   "version": "2.7.6"
  }
 },
 "nbformat": 4,
 "nbformat_minor": 0
}
