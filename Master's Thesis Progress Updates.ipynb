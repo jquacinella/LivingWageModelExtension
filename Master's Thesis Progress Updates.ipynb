{
 "cells": [
  {
   "cell_type": "markdown",
   "metadata": {},
   "source": [
    "# Thesis Progress Updates\n",
    "\n",
    "Progress updates on master's thesis. Latest version on [github](http://nbviewer.ipython.org/github/jquacinella/LivingWageModelExtension/blob/master/Master's%20Thesis.ipynb).\n",
    "\n",
    "-------------"
   ]
  },
  {
   "cell_type": "markdown",
   "metadata": {},
   "source": [
    "## Saturday Nov 21st\n",
    "\n",
    "Got off track again, but going forward I will have another night (Friday) to do work on this, as I dropped some extracirricular activities to make more time for this\n",
    "\n",
    "Updated schedule:\n",
    "\n",
    "* weekend\n",
    "    * Start loading housing data\n",
    "    * email researchers again \n",
    "* monday\n",
    "    * taxes data\n",
    "* tuesday\n",
    "    * Minimum / median wage \n",
    "    * start merging data into single data frame\n"
   ]
  },
  {
   "cell_type": "markdown",
   "metadata": {},
   "source": [
    "## Wednesday Nov 18th\n",
    "\n",
    "Started loading in housing data from FMR data. Converted XLS files to CSV and imported into pandas and filtered out columns we do not need. Going to figure out multi-level indexes to start storing this in a more convienent fashion (as well as other forms of data). Confirmed data matches listed data for one  county, but need to confirm methodology for HUD areas (like NYC, which uses a population weighted average)."
   ]
  },
  {
   "cell_type": "markdown",
   "metadata": {},
   "source": [
    "## Tuesday Nov 17th\n",
    "\n",
    "Some success: went over the food data and now getting exact values. There is a note in the USDA PDFs about adding 20% to the values when looking at individuals, since their calculations are for individuals in families. This corrects the discrepency and I am confident this portion is now officially done. Also this confirms that my model should be able to get the same exact output from the posted model data.\n",
    "\n",
    "Insurance data has been downloaded and parsed into a data frame. Main problem here is data only goes back to 2006. Either need to find another data source to go back to 2001, or limit the model to 8 years (2006 - 2014).\n",
    "\n",
    "Added some more to the outline of general steps I need to take at end of other notebook\n",
    "\n",
    "Updated Schedule this week:\n",
    "\n",
    "* wednesday / thur\n",
    "    * Start loading housing data\n",
    "    * email researchers again \n",
    "* thursday / friday\n",
    "    * taxes data\n",
    "* Weekend\n",
    "    * Minimum / median wage \n",
    "    * start merging data into single data frame\n"
   ]
  },
  {
   "cell_type": "markdown",
   "metadata": {},
   "source": [
    "## Monday Nov 16th\n",
    "\n",
    "Looked at the CEX data again, but I do not see how to get the numbers to line up exactly with the model numbers I see on the county websites (i.e. http://livingwage.mit.edu/counties/36047). They are not far off, but the south and midwest seem to not be regionally weighed correctly.\n",
    "\n",
    "Since the 'other' variable comes from the CEX, I took a look at it as well but same thing as transportation. Similar numbers but something seems off about the south and midwest.\n",
    "\n",
    "Schedule this week: \n",
    "\n",
    "* tomorrow\n",
    "    * look at food data again, make sure the calculation looks correct. Regional weights are given so numbers should align better (**DONE**)\n",
    "    * take break from cex data\n",
    "    * email researchers again to see if data on county sites is what I should be comparing to (since data is now 'proprietary', I wonder why this data is still there)\n",
    "\n",
    "* wednesday / thur\n",
    "    * Start loading health insurance data\n",
    "\n",
    "* thursday / friday\n",
    "    * Start loading housing data\n",
    "  \n",
    "\n",
    "**TODO** - compare food and cex regional definitions (http://www.bls.gov/cex/csxgloss.htm)\n",
    "\n",
    "**TODO** - the flation numbers used are old; use their numbers to confirm model accuracy but then will have to use new numbers to scale to 2015 dollars"
   ]
  },
  {
   "cell_type": "markdown",
   "metadata": {},
   "source": [
    "## Sunday Nov 15th\n",
    "\n",
    "I got a bit delayed this week, but my plan is to finish up Week13 and Week14 homeworks by monday nightm which will free me up for two weeks with no homework to worry about. The plan then is to spend continuguous chunks of time on the thesis and make significant progress by the end of this week.\n",
    "\n",
    "Currently, I am in an email conversation with one of the model authors about regional weights. She has described the methodology, but need to confirm that this works with the data (as I thought I tried what she suggested)."
   ]
  },
  {
   "cell_type": "markdown",
   "metadata": {
    "collapsed": true
   },
   "source": [
    "## Monday Nov 9th\n",
    "\n",
    "Downloading other data sets as I think about how to use the Consumer Expenditure Survey correctly (with respect to regional differences). Started with child care and had to manually download PDFs from [ChildCareAware.org](http://usa.childcareaware.org/advocacy-public-policy/resources/reports-and-research/child-care-in-america-2015-state-fact-sheet/). Sadly, they only go back to 2010. I can now either:\n",
    "\n",
    "* have to find other estimates of child care costs from pre-2010 (prefered)\n",
    "* check if the Consumer Expenditure Survey has data on this\n",
    "* impute the data (dont think this is a good idea)\n",
    "* limit the analysis going back to 2010 (which seems limiting since other data, like the Consumer Expenditure Survey in 2014 provides 2013 data and that is the latest currently).\n",
    "\n",
    "Currently I am only focusing on modeling costs for a single adult (an assumption I made early on) since I am interested in trends, and the other 'family configurations' are just linear combinations of the costs for one adult and for one child. However if I wanted to extend the numbers for 1 adult + 1 child, I would have to look into this further. For now I'll move on.\n",
    "\n",
    "Downloaded all the housing data, will determine what we need to extract.\n",
    "\n",
    "Will work on the insurance component tomorrow"
   ]
  },
  {
   "cell_type": "markdown",
   "metadata": {},
   "source": [
    "## Saturday, Nov 7th\n",
    "\n",
    "Tried loading in the transportation cost data from the customer expenditure survey for 2014. The data is in excel files, which makes it OK to pull data out, but I am still confused as to how to figure out how the original model deals with regional differences. I emailed the model author, hoping for a response soon. The numbers I get do not line up well for all regions.\n",
    "\n",
    "Also need to go over what year the model is for. Thought the model is reporting 2014 estimates; and in the case of data that is only available in 2013, we adjust for inflation to get an estimate for 2014. Need to go over the details carefully. \n",
    "\n",
    "For my current theory of how to do regional differences, I figured out how to get the values I think I need from the aggregate files since those are the only files going back to 2001.\n",
    "\n",
    "**TODO**\n",
    "\n",
    "* Load more transport data after confirming regional data issue\n",
    "* Go over food data and confirm that the years / inflation calculations make sense"
   ]
  },
  {
   "cell_type": "markdown",
   "metadata": {},
   "source": [
    "## Thur Nov 5th\n",
    "\n",
    "No progress to speak of. I got an email back from the library, with som hints to find more journals to look into. Will look into this sometime this weekend. I need to start placing deadlines for the data to be injested, or I will never get this done. Will come up with schedule for this weeknd tomorrow night."
   ]
  },
  {
   "cell_type": "markdown",
   "metadata": {
    "collapsed": true
   },
   "source": [
    "## Tuesday Oct 27th\n",
    "\n",
    "Sadly, due to family events and issues with my stomach, I have not been able to do much work. Starting work tonight to finish up loading of food data into dataframe. Eventually got it done and food data is loaded, just needs to be adjusted for inflation\n",
    "\n",
    "**Question:** for inflation, everything in original model is in 2014 dollars sinc ethey did not do this for 2015. To test if I am  getting same values as the original model, I should inflate all past values to 2014. But what about 2015? Exclude for now? Deflate back to 2014 dollars?\n",
    "\n",
    "**Journals:** Will look into some journals as well. Emailed the librarians at the Newman Library to see if they can help pin point journals. The [Economic Policy Institute](www.epi.org) looks interesting, though clearly a bit partisan. \n",
    "\n",
    "Using the [Elsevier Journal Finder](http://journalfinder.elsevier.com/), I found the following journals that might be useful:\n",
    "\n",
    "* [Research in Social Stratification and Mobility](http://www.journals.elsevier.com/research-in-social-stratification-and-mobility)\n",
    "* [Journal of Comparative Economics](http://www.journals.elsevier.com/journal-of-comparative-economics)\n",
    "\n",
    "Some I think might be related but I do not think this paper would meet requirements or would only be tangentially related:\n",
    "\n",
    "* [Labour Economics](http://www.journals.elsevier.com/labour-economics)\n",
    "* [Review of Economic Dynamics](http://www.journals.elsevier.com/review-of-economic-dynamics)\n",
    "* [Structural Change and Economic Dynamics](http://www.journals.elsevier.com/structural-change-and-economic-dynamics)"
   ]
  },
  {
   "cell_type": "markdown",
   "metadata": {},
   "source": [
    "## Tuesday Oct 20th\n",
    "\n",
    "Did some updates on the proposal, but no real work on data. Will work on that later in ths week."
   ]
  },
  {
   "cell_type": "markdown",
   "metadata": {},
   "source": [
    "## Monday Oct 19th\n",
    "\n",
    "Most costs acorss counties in NY state seem to be the same, with the biggest county level changes coming from housing. As a matter of fact, looks like *only* housing changes. This means the living wage model does come up with a county-level approximation, but most of the variables are state or national level averages with housing being the only true county-data. In some instances, regional differences are accounted for, like food.\n",
    "\n",
    "### Accomplished\n",
    "\n",
    "* Updated thesis document with some dictionaries for regional food and inflation multiplers \n",
    "* Downloaded food data from 2001 to 2015\n",
    "* Outlines data sources below:\n",
    "\n",
    "#### Data Sources:\n",
    "\n",
    "* **Food Definition:** \"The food component of the basic needs budget was compiled using  the USDA’s low - cost  food plan national average in June 2014. The low - cost plan is the second least expensive food  plan  offered  from  a  set  of  four  food  plans  that  provide nutritionally  adequate food  budgets at  various  price  points\"\n",
    "  * Food Data Source: http://www.cnpp.usda.gov/sites/default/files/usda_food_plans_cost_of_food/CostofFoodJun2014.pdf\n",
    "  * Food Regional Diff: http://www.ers.usda.gov/media/1155880/eib29-2pdf__c.pdf\n",
    "\n",
    "\n",
    "* **Child Care Costs:** The child care component is  constructed from\n",
    "  * 2013 state level estimates published by  the  National  Association  of  Child  CareResource  and  Referral  Agencies. \n",
    "  * Inflation adjusted\n",
    "\n",
    "\n",
    "* **Health definition:** \"The health component  of  the basic  needs  budget includes: (1) health  insurance  costs  for  employer sponsored  plans,  (2) medical  services,  (3) drugs, (4) medical supplies.\"\n",
    "  \n",
    "  * Costs  for (2) medical  services , (3) drugs and  (4) medical  supplies were derived from 2013 national expenditure estimates by  household size provided in the 2014 Bureau of Labor Statistics Consumer Expenditure Survey. These estimates were further  adjusted for regional differences using annual income expenditure shares reported  by  region. Values  were inflated  to  2014  dollars  using  the  Consumer  Price  Index  inflation multiplier from the Bureau of Labor Statistics\n",
    "    * Data Source: 2014 Consumer Expenditure Survey, Table 1400\n",
    "    * Regional Diff: 2014 Consumer Expenditure Survey, Table 1800 \n",
    "    * Inflation from 2013 to 2015 dollars: Inflation multiplier for 2010 = 1.092609, 2011 = 1.059176, 2012 = 1.037701, and 2013 = 1.022721.  BLS inflation calculator is available at: http://www.bls.gov/data/inflation_calculator.htm \n",
    "    \n",
    "  * Costs for (1) health insurance calculated using  the  Health  Insurance  Component  Analytical  Tool (MEPSnet/IC) provided online by the Agency for Healthcare Research and Quality\n",
    "    * Data Source: Health  Insurance  Component  Analytical  Tool  (MEPSnet/IC). Alternative is to\"extract the data from the appropriate ‘quick’ tables available on the MEPS website, Table X.C.1(2013)\" from http://meps.ahrq.gov/mepsweb/data_stats/summ_tables/insr/state/series_10/2013/txc1.htm\n",
    "    * Inflation: Inflation from 2013 to 2015 dollars: Inflation multiplier for 2010 = 1.092609, 2011 = 1.059176, 2012 = 1.037701, and 2013 = 1.022721.  BLS inflation calculator is available at: http://www.bls.gov/data/inflation_calculator.htm \n",
    "\n",
    "\n",
    "* **Housing:** captures the likely cost of rental housing in a given area in  2014 using HUD  Fair  Market  Rents  (FMR)  estimates. The  FMR  estimates  are  produced  at  the  sub - county  and  county  level.\n",
    "  * NOTE: County  FMRs  were  obtained  by  aggregating  sub - county  estimates  (where  sub - county  estimates  existed)  using  a  population - weighted  average.\n",
    "  * NOTE: The FMR estimates include utility costs and vary depending  on the number of bedrooms in each  u nit,  from  zero  to  four  bedrooms.  We assumed  that  a  one  adult  family  would  rent a  single  occupancy unit (zero bedrooms)\n",
    "    * Data Source: http://www.huduser.org/portal/datasets/fmr.html\n",
    "\n",
    "\n",
    "* **Transportation:** Transportation  costs  cover  operational  expenses  such  as  fuel  and  routine  maintenance  as  well  as  vehicle  financing  and  vehicle  insurance  but  do  not  include  the  costs of purchasing a n ew automobile.  These costs were further adjusted for regional differences  using annual  expenditure  shares reported  by  region\n",
    "  * Data Source: 2014 Consumer Expenditure Survey, Table 1400\n",
    "  * Regional Diff: 2014 Consumer Expenditure Survey, Table 1800 \n",
    "  * Inflation from 2013 to 2015 dollars: Inflation multiplier for 2010 = 1.092609, 2011 = 1.059176, 2012 = 1.037701, and 2013 = 1.022721.  BLS inflation calculator is available at: http://www.bls.gov/data/inflation_calculator.htm \n",
    "\n",
    "\n",
    "* **Other:**  Expenditures fo r other necessities are based on  2013 data by household  size  from  the  2014 Bureau  of  Labor  Statistics  Consumer  Expenditure  Survey including: (1)  Apparel  and  services,  (2)  Housekeeping  supplies,  (3)  Personal  care  products  and  services,  (4)  Reading,  and  (5 ) Miscellaneous.\n",
    "  * Data Source: 2014 Consumer Expenditure Survey, Table 1400\n",
    "  * Regional Diff: 2014 Consumer Expenditure Survey, Table 1800 \n",
    "  * Inflation from 2013 to 2015 dollars: Inflation multiplier for 2010 = 1.092609, 2011 = 1.059176, 2012 = 1.037701, and 2013 = 1.022721.  BLS inflation calculator is available at: http://www.bls.gov/data/inflation_calculator.htm \n",
    "\n",
    "\n",
    "* **Taxes:** Estimates for payroll taxes, state income tax, and federal income tax  rates  are included  in the calculation of a living wage. \n",
    "  * NOTE: Property and slaves taxes are estimated under housing costs and 'other' costs\n",
    "  * Payroll tax is a  nationally represen tative rate as specified in the Federal Insurance Contributions Act. \n",
    "    * Data Source: The payroll tax rate (Social Security and Medicare taxes) is 6.2% of total wages as of 2014.\n",
    "  * The state  tax rate is taken from the  second  lowest income tax rate for  2011 for  the state as reported by the  CCH  State  Tax  Handbook (the  lowest  bracket  was  used  if  the  second  lowest  bracket was  for incomes of over 30,000 dollars) (we assume no deductions).\n",
    "    * Data Source: State income tax rates are for the 2011 tax year. These rates were taken from the 2011 CCH Tax Handbook  (various organizations provide the CCH State Tax Handbook rates (including The Tax Foundation))\n",
    "  * The federal income tax  rate  is calculated  as  a  percentage  of total  income based  on  the  average tax  paid  by  median - income  four - person  families as reported by the  Tax Policy Center of the Urban Institute and Brookings  Institution for  2013\n",
    "    * Data Source: The Tax Policy Center reported that the average federal income tax rate for 2013 was 5.32%."
   ]
  },
  {
   "cell_type": "markdown",
   "metadata": {},
   "source": [
    "## Saturday Oct 17th\n",
    "\n",
    "Working on the thesis a litle, but didn't have much time. Did some reserch on methodology and realized I can make a simplifying assumption. The model calculates living wages for 12 different sets of families, based on the number of adults and children. Since each of the 12 combinations is a linear combination of adult and child costs from the model, and I am looking for trends and correlations, I will only calculate numbers based on a single adult. This has the side benefit of removing a variable from the model, child care costs.\n",
    "\n",
    "I also looked over the methodology for the food cost variable, and the logic is simple: food costs are taken from the second chepatest meal in the USDA outline, and are taken to represent a national average. Each county takes this national average and is weighed by a regional factor."
   ]
  },
  {
   "cell_type": "markdown",
   "metadata": {},
   "source": [
    "## Thursday Oct 15th - Discussion\n",
    "\n",
    "* look at whether data is on county or state level (DONE)\n",
    "* expand on what presenting (DONE)\n",
    "* expand on more variables to correlate to (DONE)\n",
    "* google scholar / lexus nexis --> search for journal"
   ]
  },
  {
   "cell_type": "code",
   "execution_count": null,
   "metadata": {
    "collapsed": true
   },
   "outputs": [],
   "source": []
  }
 ],
 "metadata": {
  "kernelspec": {
   "display_name": "Python 2",
   "language": "python",
   "name": "python2"
  },
  "language_info": {
   "codemirror_mode": {
    "name": "ipython",
    "version": 2
   },
   "file_extension": ".py",
   "mimetype": "text/x-python",
   "name": "python",
   "nbconvert_exporter": "python",
   "pygments_lexer": "ipython2",
   "version": "2.7.6"
  }
 },
 "nbformat": 4,
 "nbformat_minor": 0
}
