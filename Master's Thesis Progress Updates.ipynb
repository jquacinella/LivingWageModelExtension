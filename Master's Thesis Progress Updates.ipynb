{
 "cells": [
  {
   "cell_type": "markdown",
   "metadata": {},
   "source": [
    "# Thesis Progress Updates\n",
    "\n",
    "Progress updates on master's thesis. Latest version on [github](http://nbviewer.ipython.org/github/jquacinella/LivingWageModelExtension/blob/master/Master's%20Thesis.ipynb).\n",
    "\n",
    "-------------"
   ]
  },
  {
   "cell_type": "markdown",
   "metadata": {},
   "source": [
    "## Monday Oct 19th\n",
    "\n",
    "Most costs acorss counties in NY state seem to be the same, with the biggest county level changes coming from housing. As a matter of fact, looks like *only* housing changes. This means the living wage model does come up with a county-level approximation, but most of the variables are state or national level averages with housing being the only true county-data. In some instances, regional differences are accounted for, like food.\n",
    "\n",
    "Accomplished:\n",
    "\n",
    "* Updated thesis document with some dictionaries for regional food and inflation multiplers \n",
    "* Downloaded food data from 2001 to 2015\n",
    "* Outlines data sources below:\n",
    "\n",
    "### Data Sources:\n",
    "\n",
    "* **Food Definition:** \"The food component of the basic needs budget was compiled using  the USDA’s low - cost  food plan national average in June 2014. The low - cost plan is the second least expensive food  plan  offered  from  a  set  of  four  food  plans  that  provide nutritionally  adequate food  budgets at  various  price  points\"\n",
    "  * Food Data Source: http://www.cnpp.usda.gov/sites/default/files/usda_food_plans_cost_of_food/CostofFoodJun2014.pdf\n",
    "  * Food Regional Diff: http://www.ers.usda.gov/media/1155880/eib29-2pdf__c.pdf\n",
    "\n",
    "\n",
    "* **Health definition:** \"The health component  of  the basic  needs  budget includes: (1) health  insurance  costs  for  employer sponsored  plans,  (2) medical  services,  (3) drugs, (4) medical supplies.\"\n",
    "  \n",
    "  * Costs  for (2) medical  services , (3) drugs and  (4) medical  supplies were derived from 2013 national expenditure estimates by  household size provided in the 2014 Bureau of Labor Statistics Consumer Expenditure Survey. These estimates were further  adjusted for regional differences using annual income expenditure shares reported  by  region. Values  were inflated  to  2014  dollars  using  the  Consumer  Price  Index  inflation multiplier from the Bureau of Labor Statistics\n",
    "    * Data Source: 2014 Consumer Expenditure Survey, Table 1400\n",
    "    * Regional Diff: 2014 Consumer Expenditure Survey, Table 1800 \n",
    "    * Inflation from 2013 to 2015 dollars: Inflation multiplier for 2010 = 1.092609, 2011 = 1.059176, 2012 = 1.037701, and 2013 = 1.022721.  BLS inflation calculator is available at: http://www.bls.gov/data/inflation_calculator.htm \n",
    "    \n",
    "  * Costs for (1) health insurance calculated using  the  Health  Insurance  Component  Analytical  Tool (MEPSnet/IC) provided online by the Agency for Healthcare Research and Quality\n",
    "    * Data Source: Health  Insurance  Component  Analytical  Tool  (MEPSnet/IC). Alternative is to\"extract the data from the appropriate ‘quick’ tables available on the MEPS website, Table X.C.1(2013)\" from http://meps.ahrq.gov/mepsweb/data_stats/summ_tables/insr/state/series_10/2013/txc1.htm\n",
    "    * Inflation: Inflation from 2013 to 2015 dollars: Inflation multiplier for 2010 = 1.092609, 2011 = 1.059176, 2012 = 1.037701, and 2013 = 1.022721.  BLS inflation calculator is available at: http://www.bls.gov/data/inflation_calculator.htm \n",
    "\n",
    "\n",
    "* **Housing:** captures the likely cost of rental housing in a given area in  2014 using HUD  Fair  Market  Rents  (FMR)  estimates. The  FMR  estimates  are  produced  at  the  sub - county  and  county  level.\n",
    "  * NOTE: County  FMRs  were  obtained  by  aggregating  sub - county  estimates  (where  sub - county  estimates  existed)  using  a  population - weighted  average.\n",
    "  * NOTE: The FMR estimates include utility costs and vary depending  on the number of bedrooms in each  u nit,  from  zero  to  four  bedrooms.  We assumed  that  a  one  adult  family  would  rent a  single  occupancy unit (zero bedrooms)\n",
    "    * Data Source: http://www.huduser.org/portal/datasets/fmr.html\n",
    "\n",
    "\n",
    "* **Transportation:** Transportation  costs  cover  operational  expenses  such  as  fuel  and  routine  maintenance  as  well  as  vehicle  financing  and  vehicle  insurance  but  do  not  include  the  costs of purchasing a n ew automobile.  These costs were further adjusted for regional differences  using annual  expenditure  shares reported  by  region\n",
    "  * Data Source: 2014 Consumer Expenditure Survey, Table 1400\n",
    "  * Regional Diff: 2014 Consumer Expenditure Survey, Table 1800 \n",
    "  * Inflation from 2013 to 2015 dollars: Inflation multiplier for 2010 = 1.092609, 2011 = 1.059176, 2012 = 1.037701, and 2013 = 1.022721.  BLS inflation calculator is available at: http://www.bls.gov/data/inflation_calculator.htm \n",
    "\n",
    "\n",
    "* **Other:**  Expenditures fo r other necessities are based on  2013 data by household  size  from  the  2014 Bureau  of  Labor  Statistics  Consumer  Expenditure  Survey including: (1)  Apparel  and  services,  (2)  Housekeeping  supplies,  (3)  Personal  care  products  and  services,  (4)  Reading,  and  (5 ) Miscellaneous.\n",
    "  * Data Source: 2014 Consumer Expenditure Survey, Table 1400\n",
    "  * Regional Diff: 2014 Consumer Expenditure Survey, Table 1800 \n",
    "  * Inflation from 2013 to 2015 dollars: Inflation multiplier for 2010 = 1.092609, 2011 = 1.059176, 2012 = 1.037701, and 2013 = 1.022721.  BLS inflation calculator is available at: http://www.bls.gov/data/inflation_calculator.htm \n",
    "\n",
    "\n",
    "* **Taxes:** Estimates for payroll taxes, state income tax, and federal income tax  rates  are included  in the calculation of a living wage. \n",
    "  * NOTE: Property and slaves taxes are estimated under housing costs and 'other' costs\n",
    "  * Payroll tax is a  nationally represen tative rate as specified in the Federal Insurance Contributions Act. \n",
    "    * Data Source: The payroll tax rate (Social Security and Medicare taxes) is 6.2% of total wages as of 2014.\n",
    "  * The state  tax rate is taken from the  second  lowest income tax rate for  2011 for  the state as reported by the  CCH  State  Tax  Handbook (the  lowest  bracket  was  used  if  the  second  lowest  bracket was  for incomes of over 30,000 dollars) (we assume no deductions).\n",
    "    * Data Source: State income tax rates are for the 2011 tax year. These rates were taken from the 2011 CCH Tax Handbook  (various organizations provide the CCH State Tax Handbook rates (including The Tax Foundation))\n",
    "  * The federal income tax  rate  is calculated  as  a  percentage  of total  income based  on  the  average tax  paid  by  median - income  four - person  families as reported by the  Tax Policy Center of the Urban Institute and Brookings  Institution for  2013\n",
    "    * Data Source: The Tax Policy Center reported that the average federal income tax rate for 2013 was 5.32%."
   ]
  },
  {
   "cell_type": "markdown",
   "metadata": {},
   "source": [
    "## Saturday Oct 17th\n",
    "\n",
    "Working on the thesis a litle, but didn't have much time. Did some reserch on methodology and realized I can make a simplifying assumption. The model calculates living wages for 12 different sets of families, based on the number of adults and children. Since each of the 12 combinations is a linear combination of adult and child costs from the model, and I am looking for trends and correlations, I will only calculate numbers based on a single adult. This has the side benefit of removing a variable from the model, child care costs.\n",
    "\n",
    "I also looked over the methodology for the food cost variable, and the logic is simple: food costs are taken from the second chepatest meal in the USDA outline, and are taken to represent a national average. Each county takes this national average and is weighed by a regional factor."
   ]
  },
  {
   "cell_type": "markdown",
   "metadata": {},
   "source": [
    "## Thursday Oct 15th - Discussion\n",
    "\n",
    "* look at whether data is on county or state level\n",
    "* expand on what presenting\n",
    "* expand on more variables to correlate to\n",
    "* google scholar / lexus nexis --> search for journal"
   ]
  },
  {
   "cell_type": "code",
   "execution_count": null,
   "metadata": {
    "collapsed": true
   },
   "outputs": [],
   "source": []
  }
 ],
 "metadata": {
  "kernelspec": {
   "display_name": "Python 2",
   "language": "python",
   "name": "python2"
  },
  "language_info": {
   "codemirror_mode": {
    "name": "ipython",
    "version": 2
   },
   "file_extension": ".py",
   "mimetype": "text/x-python",
   "name": "python",
   "nbconvert_exporter": "python",
   "pygments_lexer": "ipython2",
   "version": "2.7.6"
  }
 },
 "nbformat": 4,
 "nbformat_minor": 0
}
