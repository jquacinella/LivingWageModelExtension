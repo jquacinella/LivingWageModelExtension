{
 "cells": [
  {
   "cell_type": "markdown",
   "metadata": {},
   "source": [
    "# Thesis Progress Updates\n",
    "\n",
    "Progress updates on master's thesis\n"
   ]
  },
  {
   "cell_type": "markdown",
   "metadata": {},
   "source": [
    "## Saturday Oct 17th\n",
    "\n",
    "Working on the thesis a litle, but didn't have much time. Did some reserch on methodology and realized I can make a simplifying assumption. The model calculates living wages for 12 different sets of families, based on the number of adults and children. Since each of the 12 combinations is a linear combination of adult and child costs from the model, and I am looking for trends and correlations, I will only calculate numbers based on a single adult. This has the side benefit of removing a variable from the model, child care costs.\n",
    "\n",
    "I also looked over the methodology for the food cost variable, and the logic is simple: food costs are taken from the second chepatest meal in the USDA outline, and are taken to represent a national average. Each county takes this national average and is weighed by a regional factor."
   ]
  },
  {
   "cell_type": "markdown",
   "metadata": {},
   "source": [
    "## Thursday Oct 15th - Discussion\n",
    "\n",
    "* look at whether data is on county or state level\n",
    "* expand on what presenting\n",
    "* expand on more variables to correlate to\n",
    "* google scholar / lexus nexis --> search for journal"
   ]
  },
  {
   "cell_type": "code",
   "execution_count": null,
   "metadata": {
    "collapsed": true
   },
   "outputs": [],
   "source": []
  }
 ],
 "metadata": {
  "kernelspec": {
   "display_name": "Python 2",
   "language": "python",
   "name": "python2"
  },
  "language_info": {
   "codemirror_mode": {
    "name": "ipython",
    "version": 2
   },
   "file_extension": ".py",
   "mimetype": "text/x-python",
   "name": "python",
   "nbconvert_exporter": "python",
   "pygments_lexer": "ipython2",
   "version": "2.7.6"
  }
 },
 "nbformat": 4,
 "nbformat_minor": 0
}
